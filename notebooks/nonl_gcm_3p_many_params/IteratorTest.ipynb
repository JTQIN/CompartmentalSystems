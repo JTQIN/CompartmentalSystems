{
 "cells": [
  {
   "cell_type": "code",
   "execution_count": 1,
   "metadata": {
    "collapsed": false
   },
   "outputs": [
    {
     "name": "stdout",
     "output_type": "stream",
     "text": [
      "<class 'range'>\n"
     ]
    },
    {
     "data": {
      "text/plain": [
       "True"
      ]
     },
     "execution_count": 1,
     "metadata": {},
     "output_type": "execute_result"
    }
   ],
   "source": [
    "# a small example how iterators are used\n",
    "r=range(2)\n",
    "print(type(r))\n",
    "type(r)\n",
    "isinstance(r,range)"
   ]
  },
  {
   "cell_type": "code",
   "execution_count": 3,
   "metadata": {
    "collapsed": false
   },
   "outputs": [
    {
     "name": "stdout",
     "output_type": "stream",
     "text": [
      "0\n",
      "1\n"
     ]
    }
   ],
   "source": [
    "ri=r.__iter__()\n",
    "print(ri.__next__())\n",
    "print(next(ri))\n",
    "# once too many\n",
    "#print(ri.__next__())"
   ]
  },
  {
   "cell_type": "code",
   "execution_count": 4,
   "metadata": {
    "collapsed": true
   },
   "outputs": [],
   "source": [
    "# prepare some global vars\n",
    "from sympy import symbols\n",
    "import os\n",
    "alpha, beta = symbols('alpha beta')\n",
    "\n",
    "par_dicts = [{alpha: 0.2, beta: 10.0}, # version 0, classical\n",
    "         {alpha: 0.1, beta:  5.0}, # version 1\n",
    "         {alpha: 0.1, beta: 20.0}, # version 2\n",
    "         {alpha: 0.4, beta:  5.0}, # version 3\n",
    "         {alpha: 0.4, beta: 20.0}, # version 4\n",
    "         {alpha: 1.0, beta:  1.0}] # linear version"
   ]
  },
  {
   "cell_type": "code",
   "execution_count": 5,
   "metadata": {
    "collapsed": false
   },
   "outputs": [
    {
     "name": "stdout",
     "output_type": "stream",
     "text": [
      "(2, 'output_data_v2/', {alpha: 0.1, beta: 20.0})\n"
     ]
    }
   ],
   "source": [
    "# now we construct our own Class and an accompanying iterator\n",
    "class exampleRange:\n",
    "    def __init__(self,il):\n",
    "        self.il=il\n",
    "    def __iter__(self):\n",
    "        return(exampleRangeIterator(self))\n",
    "   \n",
    "\n",
    "class exampleRangeIterator:\n",
    "\n",
    "    def __init__(self,er):\n",
    "        self.ili=er.il.__iter__()\n",
    "        \n",
    "    def __next__(self):\n",
    "        #we delegate to the iterator of the list class\n",
    "        version=self.ili.__next__()\n",
    "        folder = 'output_data_v%d/' % version\n",
    "        if not os.path.exists(folder):\n",
    "            os.makedirs(folder)\n",
    "            print(\"Created output data folder named '%s'\" % folder)\n",
    "        par_dict = par_dicts[version]\n",
    "        tup=(version,folder,par_dict)\n",
    "        return(tup)\n",
    " \n",
    "ev=exampleRange([2,1])\n",
    "evi=ev.__iter__()\n",
    "print(evi.__next__())"
   ]
  },
  {
   "cell_type": "code",
   "execution_count": 7,
   "metadata": {
    "collapsed": false
   },
   "outputs": [
    {
     "name": "stdout",
     "output_type": "stream",
     "text": [
      "5 output_data_v5/ {alpha: 1.0, beta: 1.0}\n",
      "0 output_data_v0/ {alpha: 0.2, beta: 10.0}\n"
     ]
    }
   ],
   "source": [
    "#now the use case\n",
    "for v,f,p in exampleRange([5,0]):\n",
    "    print(v,f,p)\n",
    "    "
   ]
  }
 ],
 "metadata": {
  "kernelspec": {
   "display_name": "Python 3",
   "language": "python",
   "name": "python3"
  },
  "language_info": {
   "codemirror_mode": {
    "name": "ipython",
    "version": 3
   },
   "file_extension": ".py",
   "mimetype": "text/x-python",
   "name": "python",
   "nbconvert_exporter": "python",
   "pygments_lexer": "ipython3",
   "version": "3.6.1"
  }
 },
 "nbformat": 4,
 "nbformat_minor": 2
}
