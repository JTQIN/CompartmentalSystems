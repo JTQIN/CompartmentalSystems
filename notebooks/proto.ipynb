{
 "cells": [
  {
   "cell_type": "code",
   "execution_count": null,
   "metadata": {},
   "outputs": [],
   "source": [
    "import xarray as xr"
   ]
  },
  {
   "cell_type": "code",
   "execution_count": null,
   "metadata": {},
   "outputs": [],
   "source": [
    "#xr.open_dataset('/home/mm/bgc-md/prototypes/ModelsAsExpressions/models/minicable/')"
   ]
  },
  {
   "cell_type": "code",
   "execution_count": null,
   "metadata": {},
   "outputs": [],
   "source": [
    "from dask.distributed import Client\n",
    "client = Client(n_workers=4)"
   ]
  },
  {
   "cell_type": "code",
   "execution_count": null,
   "metadata": {},
   "outputs": [],
   "source": [
    "#client.shutdown()"
   ]
  },
  {
   "cell_type": "code",
   "execution_count": null,
   "metadata": {},
   "outputs": [],
   "source": [
    "from dask import delayed\n",
    "import dask.array as da"
   ]
  },
  {
   "cell_type": "code",
   "execution_count": null,
   "metadata": {},
   "outputs": [],
   "source": [
    "import numpy as np\n",
    "lat_n=4\n",
    "lon_n=2\n",
    "lats =np.linspace(-0,1,lat_n)\n",
    "lons =np.linspace(-0,2,lon_n)\n",
    "data=np.zeros((lat_n,lon_n))\n",
    "for lat_ind,lat in enumerate(lats):\n",
    "    for lon_ind,lon in enumerate(lons):\n",
    "        data[lat_ind,lon_ind]=lat**2+lon**2\n",
    "data   \n",
    "\n"
   ]
  },
  {
   "cell_type": "code",
   "execution_count": null,
   "metadata": {},
   "outputs": [],
   "source": [
    "da_data=da.from_array(data,chunks=(2,2)) \n",
    "\n",
    "#da_lats=da.from_array(lats,chunks=1,)\n",
    "#da_lons=da.from_array(lons,chunks=1,)\n",
    "#x = da.arange(10, chunks=(5,))\n",
    "#y = da.arange(20, chunks=(10,))\n",
    "np.dtype(da_data)"
   ]
  },
  {
   "cell_type": "code",
   "execution_count": null,
   "metadata": {},
   "outputs": [],
   "source": [
    "def f1(block):\n",
    "    # emergency version, It seems difficult to guess the \n",
    "    # right shape of the output array so we just iterate over the block\n",
    "    # \n",
    "    nlat,nlon=block.shape\n",
    "    for ilat in range(nlat):\n",
    "        for ilon in range(nlon):\n",
    "            x=block[ilat,ilon]\n",
    "            block[ilat,ilon]=x**2\n",
    "    return  block\n",
    "    "
   ]
  },
  {
   "cell_type": "code",
   "execution_count": null,
   "metadata": {},
   "outputs": [],
   "source": [
    "\n",
    "#da.map_blocks(func, x, y, chunks=(2,), dtype='i8')\n",
    "fut=da.map_blocks(f1,da_data,dtype=np.dtype(da_data))"
   ]
  },
  {
   "cell_type": "code",
   "execution_count": null,
   "metadata": {},
   "outputs": [],
   "source": [
    "result=fut.compute()"
   ]
  },
  {
   "cell_type": "code",
   "execution_count": null,
   "metadata": {},
   "outputs": [],
   "source": [
    "result\n",
    "\n"
   ]
  },
  {
   "cell_type": "code",
   "execution_count": null,
   "metadata": {},
   "outputs": [],
   "source": [
    "def f2(block):\n",
    "    # this time we want to return a much bigger array\n",
    "    # the statetransition operator cache is actually a \n",
    "    nlat,nlon=block.shape\n",
    "    for ilat in range(nlat):\n",
    "        for ilon in range(nlon):\n",
    "            x=block[ilat,ilon]\n",
    "            block[ilat,ilon]=x**2\n",
    "    return  block\n",
    "    "
   ]
  },
  {
   "cell_type": "code",
   "execution_count": null,
   "metadata": {},
   "outputs": [],
   "source": []
  }
 ],
 "metadata": {
  "kernelspec": {
   "display_name": "Python 3",
   "language": "python",
   "name": "python3"
  },
  "language_info": {
   "codemirror_mode": {
    "name": "ipython",
    "version": 3
   },
   "file_extension": ".py",
   "mimetype": "text/x-python",
   "name": "python",
   "nbconvert_exporter": "python",
   "pygments_lexer": "ipython3",
   "version": "3.8.1"
  }
 },
 "nbformat": 4,
 "nbformat_minor": 4
}
